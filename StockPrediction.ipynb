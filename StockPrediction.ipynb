{
  "nbformat": 4,
  "nbformat_minor": 0,
  "metadata": {
    "colab": {
      "name": "StockPrediction",
      "provenance": [],
      "collapsed_sections": [],
      "authorship_tag": "ABX9TyPlE5ERqZaZjqzGiuIEISwP",
      "include_colab_link": true
    },
    "kernelspec": {
      "name": "python3",
      "display_name": "Python 3"
    }
  },
  "cells": [
    {
      "cell_type": "markdown",
      "metadata": {
        "id": "view-in-github",
        "colab_type": "text"
      },
      "source": [
        "<a href=\"https://colab.research.google.com/github/aakash-1998/Data-Science/blob/main/StockPrediction.ipynb\" target=\"_parent\"><img src=\"https://colab.research.google.com/assets/colab-badge.svg\" alt=\"Open In Colab\"/></a>"
      ]
    },
    {
      "cell_type": "code",
      "metadata": {
        "id": "_Aa4LG5cGpu1"
      },
      "source": [
        "from sklearn.svm import SVR\n",
        "import numpy as np\n",
        "import pandas as pd\n",
        "import matplotlib.pyplot as plt\n",
        "import datetime as dt"
      ],
      "execution_count": null,
      "outputs": []
    },
    {
      "cell_type": "code",
      "metadata": {
        "id": "FC9j3pq4GtJs"
      },
      "source": [
        "# !pip install pandas-datareader\n",
        "import pandas_datareader as web"
      ],
      "execution_count": null,
      "outputs": []
    },
    {
      "cell_type": "code",
      "metadata": {
        "id": "zS87MTRXG_D_"
      },
      "source": [
        "data =  web.DataReader(\"SBIN.NS\",\"yahoo\",dt.datetime(2020,9,1),dt.datetime.now())"
      ],
      "execution_count": null,
      "outputs": []
    },
    {
      "cell_type": "code",
      "metadata": {
        "id": "y7vtn-sFI0zV",
        "outputId": "b5896cb5-f3c5-4e55-fbf7-5e1fd0d5f215",
        "colab": {
          "base_uri": "https://localhost:8080/",
          "height": 524
        }
      },
      "source": [
        "data"
      ],
      "execution_count": null,
      "outputs": [
        {
          "output_type": "execute_result",
          "data": {
            "text/html": [
              "<div>\n",
              "<style scoped>\n",
              "    .dataframe tbody tr th:only-of-type {\n",
              "        vertical-align: middle;\n",
              "    }\n",
              "\n",
              "    .dataframe tbody tr th {\n",
              "        vertical-align: top;\n",
              "    }\n",
              "\n",
              "    .dataframe thead th {\n",
              "        text-align: right;\n",
              "    }\n",
              "</style>\n",
              "<table border=\"1\" class=\"dataframe\">\n",
              "  <thead>\n",
              "    <tr style=\"text-align: right;\">\n",
              "      <th></th>\n",
              "      <th>High</th>\n",
              "      <th>Low</th>\n",
              "      <th>Open</th>\n",
              "      <th>Close</th>\n",
              "      <th>Volume</th>\n",
              "      <th>Adj Close</th>\n",
              "    </tr>\n",
              "    <tr>\n",
              "      <th>Date</th>\n",
              "      <th></th>\n",
              "      <th></th>\n",
              "      <th></th>\n",
              "      <th></th>\n",
              "      <th></th>\n",
              "      <th></th>\n",
              "    </tr>\n",
              "  </thead>\n",
              "  <tbody>\n",
              "    <tr>\n",
              "      <th>2020-09-01</th>\n",
              "      <td>218.899994</td>\n",
              "      <td>211.199997</td>\n",
              "      <td>213.100006</td>\n",
              "      <td>218.100006</td>\n",
              "      <td>75048313</td>\n",
              "      <td>218.100006</td>\n",
              "    </tr>\n",
              "    <tr>\n",
              "      <th>2020-09-02</th>\n",
              "      <td>219.000000</td>\n",
              "      <td>212.300003</td>\n",
              "      <td>218.250000</td>\n",
              "      <td>216.250000</td>\n",
              "      <td>47608088</td>\n",
              "      <td>216.250000</td>\n",
              "    </tr>\n",
              "    <tr>\n",
              "      <th>2020-09-03</th>\n",
              "      <td>218.250000</td>\n",
              "      <td>212.300003</td>\n",
              "      <td>217.500000</td>\n",
              "      <td>213.149994</td>\n",
              "      <td>38594129</td>\n",
              "      <td>213.149994</td>\n",
              "    </tr>\n",
              "    <tr>\n",
              "      <th>2020-09-04</th>\n",
              "      <td>212.300003</td>\n",
              "      <td>205.899994</td>\n",
              "      <td>210.000000</td>\n",
              "      <td>206.600006</td>\n",
              "      <td>54435758</td>\n",
              "      <td>206.600006</td>\n",
              "    </tr>\n",
              "    <tr>\n",
              "      <th>2020-09-07</th>\n",
              "      <td>209.649994</td>\n",
              "      <td>205.399994</td>\n",
              "      <td>207.500000</td>\n",
              "      <td>207.899994</td>\n",
              "      <td>35687359</td>\n",
              "      <td>207.899994</td>\n",
              "    </tr>\n",
              "    <tr>\n",
              "      <th>2020-09-08</th>\n",
              "      <td>208.500000</td>\n",
              "      <td>202.899994</td>\n",
              "      <td>207.899994</td>\n",
              "      <td>204.050003</td>\n",
              "      <td>34146789</td>\n",
              "      <td>204.050003</td>\n",
              "    </tr>\n",
              "    <tr>\n",
              "      <th>2020-09-09</th>\n",
              "      <td>201.399994</td>\n",
              "      <td>192.500000</td>\n",
              "      <td>201.100006</td>\n",
              "      <td>194.850006</td>\n",
              "      <td>72715826</td>\n",
              "      <td>194.850006</td>\n",
              "    </tr>\n",
              "    <tr>\n",
              "      <th>2020-09-10</th>\n",
              "      <td>201.449997</td>\n",
              "      <td>195.199997</td>\n",
              "      <td>197.699997</td>\n",
              "      <td>198.149994</td>\n",
              "      <td>67789617</td>\n",
              "      <td>198.149994</td>\n",
              "    </tr>\n",
              "    <tr>\n",
              "      <th>2020-09-11</th>\n",
              "      <td>203.850006</td>\n",
              "      <td>197.000000</td>\n",
              "      <td>198.550003</td>\n",
              "      <td>202.699997</td>\n",
              "      <td>48487971</td>\n",
              "      <td>202.699997</td>\n",
              "    </tr>\n",
              "    <tr>\n",
              "      <th>2020-09-14</th>\n",
              "      <td>206.199997</td>\n",
              "      <td>197.350006</td>\n",
              "      <td>205.899994</td>\n",
              "      <td>198.500000</td>\n",
              "      <td>63605531</td>\n",
              "      <td>198.500000</td>\n",
              "    </tr>\n",
              "    <tr>\n",
              "      <th>2020-09-15</th>\n",
              "      <td>201.000000</td>\n",
              "      <td>197.100006</td>\n",
              "      <td>199.899994</td>\n",
              "      <td>200.149994</td>\n",
              "      <td>51761038</td>\n",
              "      <td>200.149994</td>\n",
              "    </tr>\n",
              "    <tr>\n",
              "      <th>2020-09-16</th>\n",
              "      <td>200.050003</td>\n",
              "      <td>196.250000</td>\n",
              "      <td>199.850006</td>\n",
              "      <td>198.199997</td>\n",
              "      <td>52404964</td>\n",
              "      <td>198.199997</td>\n",
              "    </tr>\n",
              "    <tr>\n",
              "      <th>2020-09-17</th>\n",
              "      <td>198.000000</td>\n",
              "      <td>195.000000</td>\n",
              "      <td>197.000000</td>\n",
              "      <td>195.449997</td>\n",
              "      <td>41223296</td>\n",
              "      <td>195.449997</td>\n",
              "    </tr>\n",
              "    <tr>\n",
              "      <th>2020-09-18</th>\n",
              "      <td>197.199997</td>\n",
              "      <td>189.699997</td>\n",
              "      <td>196.000000</td>\n",
              "      <td>192.600006</td>\n",
              "      <td>55286316</td>\n",
              "      <td>192.600006</td>\n",
              "    </tr>\n",
              "    <tr>\n",
              "      <th>2020-09-21</th>\n",
              "      <td>193.500000</td>\n",
              "      <td>184.250000</td>\n",
              "      <td>193.050003</td>\n",
              "      <td>185.800003</td>\n",
              "      <td>57579914</td>\n",
              "      <td>185.800003</td>\n",
              "    </tr>\n",
              "  </tbody>\n",
              "</table>\n",
              "</div>"
            ],
            "text/plain": [
              "                  High         Low  ...    Volume   Adj Close\n",
              "Date                                ...                      \n",
              "2020-09-01  218.899994  211.199997  ...  75048313  218.100006\n",
              "2020-09-02  219.000000  212.300003  ...  47608088  216.250000\n",
              "2020-09-03  218.250000  212.300003  ...  38594129  213.149994\n",
              "2020-09-04  212.300003  205.899994  ...  54435758  206.600006\n",
              "2020-09-07  209.649994  205.399994  ...  35687359  207.899994\n",
              "2020-09-08  208.500000  202.899994  ...  34146789  204.050003\n",
              "2020-09-09  201.399994  192.500000  ...  72715826  194.850006\n",
              "2020-09-10  201.449997  195.199997  ...  67789617  198.149994\n",
              "2020-09-11  203.850006  197.000000  ...  48487971  202.699997\n",
              "2020-09-14  206.199997  197.350006  ...  63605531  198.500000\n",
              "2020-09-15  201.000000  197.100006  ...  51761038  200.149994\n",
              "2020-09-16  200.050003  196.250000  ...  52404964  198.199997\n",
              "2020-09-17  198.000000  195.000000  ...  41223296  195.449997\n",
              "2020-09-18  197.199997  189.699997  ...  55286316  192.600006\n",
              "2020-09-21  193.500000  184.250000  ...  57579914  185.800003\n",
              "\n",
              "[15 rows x 6 columns]"
            ]
          },
          "metadata": {
            "tags": []
          },
          "execution_count": 32
        }
      ]
    },
    {
      "cell_type": "code",
      "metadata": {
        "id": "KtIlEYx2KaAn",
        "outputId": "18278331-df7d-4a7d-d9db-fead9f00c4d8",
        "colab": {
          "base_uri": "https://localhost:8080/",
          "height": 150
        }
      },
      "source": [
        "df = data.reset_index()\n",
        "df.dtypes"
      ],
      "execution_count": null,
      "outputs": [
        {
          "output_type": "execute_result",
          "data": {
            "text/plain": [
              "Date         datetime64[ns]\n",
              "High                float64\n",
              "Low                 float64\n",
              "Open                float64\n",
              "Close               float64\n",
              "Volume                int64\n",
              "Adj Close           float64\n",
              "dtype: object"
            ]
          },
          "metadata": {
            "tags": []
          },
          "execution_count": 33
        }
      ]
    },
    {
      "cell_type": "code",
      "metadata": {
        "id": "Fp_AmIhuLAIt",
        "outputId": "ab760ce1-3a91-4224-dce3-7d9918a4f922",
        "colab": {
          "base_uri": "https://localhost:8080/",
          "height": 33
        }
      },
      "source": [
        "df.shape"
      ],
      "execution_count": null,
      "outputs": [
        {
          "output_type": "execute_result",
          "data": {
            "text/plain": [
              "(15, 7)"
            ]
          },
          "metadata": {
            "tags": []
          },
          "execution_count": 34
        }
      ]
    },
    {
      "cell_type": "code",
      "metadata": {
        "id": "ReuoYiUAL4S1",
        "outputId": "9b7b014b-6cbc-45f6-a61d-cfcb7b2954ac",
        "colab": {
          "base_uri": "https://localhost:8080/",
          "height": 77
        }
      },
      "source": [
        "actual_price = df.tail(1)\n",
        "actual_price"
      ],
      "execution_count": null,
      "outputs": [
        {
          "output_type": "execute_result",
          "data": {
            "text/html": [
              "<div>\n",
              "<style scoped>\n",
              "    .dataframe tbody tr th:only-of-type {\n",
              "        vertical-align: middle;\n",
              "    }\n",
              "\n",
              "    .dataframe tbody tr th {\n",
              "        vertical-align: top;\n",
              "    }\n",
              "\n",
              "    .dataframe thead th {\n",
              "        text-align: right;\n",
              "    }\n",
              "</style>\n",
              "<table border=\"1\" class=\"dataframe\">\n",
              "  <thead>\n",
              "    <tr style=\"text-align: right;\">\n",
              "      <th></th>\n",
              "      <th>Date</th>\n",
              "      <th>High</th>\n",
              "      <th>Low</th>\n",
              "      <th>Open</th>\n",
              "      <th>Close</th>\n",
              "      <th>Volume</th>\n",
              "      <th>Adj Close</th>\n",
              "    </tr>\n",
              "  </thead>\n",
              "  <tbody>\n",
              "    <tr>\n",
              "      <th>14</th>\n",
              "      <td>2020-09-21</td>\n",
              "      <td>193.5</td>\n",
              "      <td>184.25</td>\n",
              "      <td>193.050003</td>\n",
              "      <td>185.800003</td>\n",
              "      <td>57579914</td>\n",
              "      <td>185.800003</td>\n",
              "    </tr>\n",
              "  </tbody>\n",
              "</table>\n",
              "</div>"
            ],
            "text/plain": [
              "         Date   High     Low        Open       Close    Volume   Adj Close\n",
              "14 2020-09-21  193.5  184.25  193.050003  185.800003  57579914  185.800003"
            ]
          },
          "metadata": {
            "tags": []
          },
          "execution_count": 35
        }
      ]
    },
    {
      "cell_type": "code",
      "metadata": {
        "id": "beyb31QSMYOX",
        "outputId": "ea81fe25-5110-48b7-8d7d-7110062bd30f",
        "colab": {
          "base_uri": "https://localhost:8080/",
          "height": 301
        }
      },
      "source": [
        "# prepare the data for training the SVR models\n",
        "df = df.head(len(df)-1)\n",
        "print(df)"
      ],
      "execution_count": null,
      "outputs": [
        {
          "output_type": "stream",
          "text": [
            "         Date        High         Low  ...       Close    Volume   Adj Close\n",
            "0  2020-09-01  218.899994  211.199997  ...  218.100006  75048313  218.100006\n",
            "1  2020-09-02  219.000000  212.300003  ...  216.250000  47608088  216.250000\n",
            "2  2020-09-03  218.250000  212.300003  ...  213.149994  38594129  213.149994\n",
            "3  2020-09-04  212.300003  205.899994  ...  206.600006  54435758  206.600006\n",
            "4  2020-09-07  209.649994  205.399994  ...  207.899994  35687359  207.899994\n",
            "5  2020-09-08  208.500000  202.899994  ...  204.050003  34146789  204.050003\n",
            "6  2020-09-09  201.399994  192.500000  ...  194.850006  72715826  194.850006\n",
            "7  2020-09-10  201.449997  195.199997  ...  198.149994  67789617  198.149994\n",
            "8  2020-09-11  203.850006  197.000000  ...  202.699997  48487971  202.699997\n",
            "9  2020-09-14  206.199997  197.350006  ...  198.500000  63605531  198.500000\n",
            "10 2020-09-15  201.000000  197.100006  ...  200.149994  51761038  200.149994\n",
            "11 2020-09-16  200.050003  196.250000  ...  198.199997  52404964  198.199997\n",
            "12 2020-09-17  198.000000  195.000000  ...  195.449997  41223296  195.449997\n",
            "13 2020-09-18  197.199997  189.699997  ...  192.600006  55286316  192.600006\n",
            "\n",
            "[14 rows x 7 columns]\n"
          ],
          "name": "stdout"
        }
      ]
    },
    {
      "cell_type": "code",
      "metadata": {
        "id": "m2UQo95ZMnEJ"
      },
      "source": [
        "#  Create empty list to store the dependent and independent data\n",
        "days = []\n",
        "adj_close_prices = []"
      ],
      "execution_count": null,
      "outputs": []
    },
    {
      "cell_type": "code",
      "metadata": {
        "id": "V7YcoizpM2we",
        "outputId": "bf2cd70d-50c3-46c2-c9ce-cc4925e22faf",
        "colab": {
          "base_uri": "https://localhost:8080/",
          "height": 268
        }
      },
      "source": [
        "# Get the dates and adjusted close prices\n",
        "df_days = df.loc[:,\"Date\"]\n",
        "df_adj_close = df.loc[:,\"Adj Close\"]\n",
        "df_days"
      ],
      "execution_count": null,
      "outputs": [
        {
          "output_type": "execute_result",
          "data": {
            "text/plain": [
              "0    2020-09-01\n",
              "1    2020-09-02\n",
              "2    2020-09-03\n",
              "3    2020-09-04\n",
              "4    2020-09-07\n",
              "5    2020-09-08\n",
              "6    2020-09-09\n",
              "7    2020-09-10\n",
              "8    2020-09-11\n",
              "9    2020-09-14\n",
              "10   2020-09-15\n",
              "11   2020-09-16\n",
              "12   2020-09-17\n",
              "13   2020-09-18\n",
              "Name: Date, dtype: datetime64[ns]"
            ]
          },
          "metadata": {
            "tags": []
          },
          "execution_count": 38
        }
      ]
    },
    {
      "cell_type": "code",
      "metadata": {
        "id": "BHV7xAgfNI_p"
      },
      "source": [
        "# Create the independent dataset \n",
        "for i in range(len(df_days)):\n",
        "  days.append([df.Date.dt.day[i]])\n",
        "# create the dependent dataset\n",
        "for j in df_adj_close:\n",
        "  adj_close_prices.append( float (j))  "
      ],
      "execution_count": null,
      "outputs": []
    },
    {
      "cell_type": "code",
      "metadata": {
        "id": "PT3hvYhl_3D-",
        "outputId": "d37f8dfb-dbb0-4804-b91c-3207ce6e9e20",
        "colab": {
          "base_uri": "https://localhost:8080/",
          "height": 70
        }
      },
      "source": [
        "print(days)\n",
        "print(adj_close_prices)"
      ],
      "execution_count": null,
      "outputs": [
        {
          "output_type": "stream",
          "text": [
            "[[1], [2], [3], [4], [7], [8], [9], [10], [11], [14], [15], [16], [17], [18]]\n",
            "[218.10000610351562, 216.25, 213.14999389648438, 206.60000610351562, 207.89999389648438, 204.0500030517578, 194.85000610351562, 198.14999389648438, 202.6999969482422, 198.5, 200.14999389648438, 198.1999969482422, 195.4499969482422, 192.60000610351562]\n"
          ],
          "name": "stdout"
        }
      ]
    },
    {
      "cell_type": "code",
      "metadata": {
        "id": "7Cxvg5X4CDFV",
        "outputId": "b5e641c4-4bbb-4b5c-cf60-3f1be70741e0",
        "colab": {
          "base_uri": "https://localhost:8080/",
          "height": 50
        }
      },
      "source": [
        "# Create the 3 Support Vector Regression Models\n",
        "# Create and Train a SVR Model using a linear kernel\n",
        "lin_svr = SVR(kernel=\"linear\",C=1000.0)\n",
        "lin_svr.fit(days,adj_close_prices)\n",
        "\n",
        "# Create and Train a SVR Model using a Polynomial kernel\n",
        "poly_svr = SVR(kernel=\"poly\",C=1000.0,degree=2)\n",
        "poly_svr.fit(days,adj_close_prices)\n",
        "\n",
        "# Create and Train a SVR Model using a rbf kernel\n",
        "rbf_svr = SVR(kernel=\"rbf\",C=1000.0)\n",
        "rbf_svr.fit(days,adj_close_prices)"
      ],
      "execution_count": null,
      "outputs": [
        {
          "output_type": "execute_result",
          "data": {
            "text/plain": [
              "SVR(C=1000.0, cache_size=200, coef0=0.0, degree=3, epsilon=0.1, gamma='scale',\n",
              "    kernel='rbf', max_iter=-1, shrinking=True, tol=0.001, verbose=False)"
            ]
          },
          "metadata": {
            "tags": []
          },
          "execution_count": 46
        }
      ]
    },
    {
      "cell_type": "code",
      "metadata": {
        "id": "XJp30_crEL_d",
        "outputId": "42ff095a-830e-4e72-c52c-908adb1ef623",
        "colab": {
          "base_uri": "https://localhost:8080/",
          "height": 332
        }
      },
      "source": [
        "# plot the models on a graph to see which has the best fit to the original data\n",
        "plt.figure(figsize=(16,8))\n",
        "plt.scatter(days,adj_close_prices,color=\"red\",label=\"Data\")\n",
        "plt.plot(days,rbf_svr.predict(days),color=\"green\",label=\"RBF Model\")\n",
        "plt.plot(days,poly_svr.predict(days),color=\"orange\",label=\"Polynomial Model\")\n",
        "plt.plot(days,lin_svr.predict(days),color=\"blue\",label=\"Linear Model\")\n",
        "plt.legend()\n",
        "plt.show()"
      ],
      "execution_count": null,
      "outputs": [
        {
          "output_type": "display_data",
          "data": {
            "image/png": "[encoded data removed]",
            "text/plain": [
              "<Figure size 1152x576 with 1 Axes>"
            ]
          },
          "metadata": {
            "tags": [],
            "needs_background": "light"
          }
        }
      ]
    },
    {
      "cell_type": "code",
      "metadata": {
        "id": "FAaB7s-kFHO9",
        "outputId": "035f2e3b-890a-472d-c897-d33c5d09fce4",
        "colab": {
          "base_uri": "https://localhost:8080/",
          "height": 33
        }
      },
      "source": [
        "rbf_svr.predict([[35]])"
      ],
      "execution_count": null,
      "outputs": [
        {
          "output_type": "execute_result",
          "data": {
            "text/plain": [
              "array([200.93777493])"
            ]
          },
          "metadata": {
            "tags": []
          },
          "execution_count": 53
        }
      ]
    },
    {
      "cell_type": "code",
      "metadata": {
        "id": "ttcoIvp6F2Xf",
        "outputId": "ff956aca-dd58-431f-bc79-a7583e4d28cf",
        "colab": {
          "base_uri": "https://localhost:8080/",
          "height": 268
        }
      },
      "source": [
        "df.Date"
      ],
      "execution_count": null,
      "outputs": [
        {
          "output_type": "execute_result",
          "data": {
            "text/plain": [
              "0    2020-09-01\n",
              "1    2020-09-02\n",
              "2    2020-09-03\n",
              "3    2020-09-04\n",
              "4    2020-09-07\n",
              "5    2020-09-08\n",
              "6    2020-09-09\n",
              "7    2020-09-10\n",
              "8    2020-09-11\n",
              "9    2020-09-14\n",
              "10   2020-09-15\n",
              "11   2020-09-16\n",
              "12   2020-09-17\n",
              "13   2020-09-18\n",
              "Name: Date, dtype: datetime64[ns]"
            ]
          },
          "metadata": {
            "tags": []
          },
          "execution_count": 51
        }
      ]
    },
    {
      "cell_type": "code",
      "metadata": {
        "id": "dQqEuuSYF_lF"
      },
      "source": [
        ""
      ],
      "execution_count": null,
      "outputs": []
    }
  ]
}